{
 "cells": [
  {
   "cell_type": "code",
   "execution_count": 1,
   "id": "0df188e8-13fa-41f6-9f20-f498ded43f75",
   "metadata": {},
   "outputs": [],
   "source": [
    "import time\n",
    "import random\n",
    "from collections import deque"
   ]
  },
  {
   "cell_type": "code",
   "execution_count": 2,
   "id": "6ebeff59-41da-4593-97ce-f6492f09d566",
   "metadata": {},
   "outputs": [],
   "source": [
    "# Sample Graph Generator (Adjacency List)\n",
    "def generate_graph(num_nodes, edge_prob=0.2):\n",
    "    \"\"\"Generates a random undirected graph with given edge probability.\"\"\"\n",
    "    graph = {i: set() for i in range(num_nodes)}\n",
    "    for i in range(num_nodes):\n",
    "        for j in range(i + 1, num_nodes):\n",
    "            if random.random() < edge_prob:\n",
    "                graph[i].add(j)\n",
    "                graph[j].add(i)\n",
    "    return graph"
   ]
  },
  {
   "cell_type": "code",
   "execution_count": 3,
   "id": "71da756c-3a98-4dbd-a274-a3e10cd36603",
   "metadata": {},
   "outputs": [],
   "source": [
    "# BFS Implementation\n",
    "def bfs(graph, start):\n",
    "    queue = deque([start])\n",
    "    visited = set([start])\n",
    "    node_count = 0\n",
    "\n",
    "    while queue:\n",
    "        node = queue.popleft()\n",
    "        node_count += 1  # Counting visited nodes\n",
    "        for neighbor in graph[node]:\n",
    "            if neighbor not in visited:\n",
    "                visited.add(neighbor)\n",
    "                queue.append(neighbor)\n",
    "    \n",
    "    return node_count\n"
   ]
  },
  {
   "cell_type": "code",
   "execution_count": 4,
   "id": "cbed6384-8d48-4b27-b027-e7633d7a693e",
   "metadata": {},
   "outputs": [],
   "source": [
    "# DFS Implementation\n",
    "def dfs(graph, start):\n",
    "    stack = [start]\n",
    "    visited = set([start])\n",
    "    node_count = 0\n",
    "\n",
    "    while stack:\n",
    "        node = stack.pop()\n",
    "        node_count += 1  # Counting visited nodes\n",
    "        for neighbor in graph[node]:\n",
    "            if neighbor not in visited:\n",
    "                visited.add(neighbor)\n",
    "                stack.append(neighbor)\n",
    "    \n",
    "    return node_count\n"
   ]
  },
  {
   "cell_type": "code",
   "execution_count": 5,
   "id": "b558d915-841d-4496-82a3-c2a7a60a8b16",
   "metadata": {},
   "outputs": [],
   "source": [
    "# Adaptive-DFS (A-DFS) Implementation\n",
    "def adaptive_dfs(graph, start, switch_threshold=3):\n",
    "    stack = [(start, 0)]  # (node, depth)\n",
    "    visited = set([start])\n",
    "    node_count = 0\n",
    "\n",
    "    while stack:\n",
    "        node, depth = stack.pop()\n",
    "        node_count += 1  # Counting visited nodes\n",
    "        \n",
    "        neighbors = sorted(graph[node], key=lambda x: len(graph[x]), reverse=True)  # Prioritize high-degree nodes\n",
    "        \n",
    "        for neighbor in neighbors:\n",
    "            if neighbor not in visited:\n",
    "                visited.add(neighbor)\n",
    "\n",
    "                if depth < switch_threshold:\n",
    "                    stack.append((neighbor, depth + 1))  # DFS mode\n",
    "                else:\n",
    "                    stack.insert(0, (neighbor, depth))  # BFS-like insertion\n",
    "    \n",
    "    return node_count\n"
   ]
  },
  {
   "cell_type": "code",
   "execution_count": 6,
   "id": "0dea28de-7549-44ca-8063-13350c8468d4",
   "metadata": {},
   "outputs": [],
   "source": [
    "# Performance Test\n",
    "def run_tests(num_nodes=1000, edge_prob=0.05, trials=3):\n",
    "    \"\"\"Compares BFS, DFS, and Adaptive-DFS on randomly generated graphs.\"\"\"\n",
    "    print(f\"Running tests on graph with {num_nodes} nodes, edge probability={edge_prob}\")\n",
    "\n",
    "    for t in range(trials):\n",
    "        graph = generate_graph(num_nodes, edge_prob)\n",
    "        start_node = random.choice(list(graph.keys()))\n",
    "\n",
    "        # BFS Test\n",
    "        start_time = time.time()\n",
    "        bfs_nodes = bfs(graph, start_node)\n",
    "        bfs_time = time.time() - start_time\n",
    "\n",
    "        # DFS Test\n",
    "        start_time = time.time()\n",
    "        dfs_nodes = dfs(graph, start_node)\n",
    "        dfs_time = time.time() - start_time\n",
    "\n",
    "        # A-DFS Test\n",
    "        start_time = time.time()\n",
    "        adfs_nodes = adaptive_dfs(graph, start_node)\n",
    "        adfs_time = time.time() - start_time\n",
    "\n",
    "        print(f\"Trial {t+1}:\")\n",
    "        print(f\"BFS  -> Nodes visited: {bfs_nodes}, Time: {bfs_time:.6f} sec\")\n",
    "        print(f\"DFS  -> Nodes visited: {dfs_nodes}, Time: {dfs_time:.6f} sec\")\n",
    "        print(f\"A-DFS -> Nodes visited: {adfs_nodes}, Time: {adfs_time:.6f} sec\")\n",
    "        print(\"-\" * 50)\n"
   ]
  },
  {
   "cell_type": "code",
   "execution_count": 7,
   "id": "f4ccfbac-f9b3-4a5f-a980-101e41c07c3d",
   "metadata": {},
   "outputs": [
    {
     "name": "stdout",
     "output_type": "stream",
     "text": [
      "Running tests on graph with 1000 nodes, edge probability=0.02\n",
      "Trial 1:\n",
      "BFS  -> Nodes visited: 1000, Time: 0.001001 sec\n",
      "DFS  -> Nodes visited: 1000, Time: 0.002000 sec\n",
      "A-DFS -> Nodes visited: 1000, Time: 0.006000 sec\n",
      "--------------------------------------------------\n",
      "Trial 2:\n",
      "BFS  -> Nodes visited: 1000, Time: 0.000000 sec\n",
      "DFS  -> Nodes visited: 1000, Time: 0.000000 sec\n",
      "A-DFS -> Nodes visited: 1000, Time: 0.000000 sec\n",
      "--------------------------------------------------\n",
      "Trial 3:\n",
      "BFS  -> Nodes visited: 1000, Time: 0.000000 sec\n",
      "DFS  -> Nodes visited: 1000, Time: 0.000000 sec\n",
      "A-DFS -> Nodes visited: 1000, Time: 0.000000 sec\n",
      "--------------------------------------------------\n"
     ]
    }
   ],
   "source": [
    "# Run the tests\n",
    "run_tests(num_nodes=1000, edge_prob=0.02, trials=3)\n"
   ]
  },
  {
   "cell_type": "code",
   "execution_count": 8,
   "id": "8bdac5c0-ae11-4573-83a9-1a52a76f91ed",
   "metadata": {},
   "outputs": [
    {
     "name": "stdout",
     "output_type": "stream",
     "text": [
      "Running tests on graph with 1000 nodes, edge probability=0.05\n",
      "Trial 1:\n",
      "BFS  -> Nodes visited: 1000, Time: 0.004000 sec\n",
      "DFS  -> Nodes visited: 1000, Time: 0.003683 sec\n",
      "A-DFS -> Nodes visited: 1000, Time: 0.014000 sec\n",
      "--------------------------------------------------\n",
      "Trial 2:\n",
      "BFS  -> Nodes visited: 1000, Time: 0.015666 sec\n",
      "DFS  -> Nodes visited: 1000, Time: 0.000000 sec\n",
      "A-DFS -> Nodes visited: 1000, Time: 0.016042 sec\n",
      "--------------------------------------------------\n",
      "Trial 3:\n",
      "BFS  -> Nodes visited: 1000, Time: 0.017817 sec\n",
      "DFS  -> Nodes visited: 1000, Time: 0.004787 sec\n",
      "A-DFS -> Nodes visited: 1000, Time: 0.020773 sec\n",
      "--------------------------------------------------\n"
     ]
    }
   ],
   "source": [
    "# Run the tests\n",
    "run_tests(num_nodes=1000, edge_prob=0.05, trials=3)\n"
   ]
  },
  {
   "cell_type": "code",
   "execution_count": 9,
   "id": "2844988d-6e3d-4b11-9312-d7cf2374270b",
   "metadata": {},
   "outputs": [
    {
     "name": "stdout",
     "output_type": "stream",
     "text": [
      "Running tests on graph with 1000 nodes, edge probability=0.09\n",
      "Trial 1:\n",
      "BFS  -> Nodes visited: 1000, Time: 0.006004 sec\n",
      "DFS  -> Nodes visited: 1000, Time: 0.005721 sec\n",
      "A-DFS -> Nodes visited: 1000, Time: 0.015092 sec\n",
      "--------------------------------------------------\n",
      "Trial 2:\n",
      "BFS  -> Nodes visited: 1000, Time: 0.000000 sec\n",
      "DFS  -> Nodes visited: 1000, Time: 0.015763 sec\n",
      "A-DFS -> Nodes visited: 1000, Time: 0.035552 sec\n",
      "--------------------------------------------------\n",
      "Trial 3:\n",
      "BFS  -> Nodes visited: 1000, Time: 0.000000 sec\n",
      "DFS  -> Nodes visited: 1000, Time: 0.016091 sec\n",
      "A-DFS -> Nodes visited: 1000, Time: 0.026757 sec\n",
      "--------------------------------------------------\n"
     ]
    }
   ],
   "source": [
    "# Run the tests\n",
    "run_tests(num_nodes=1000, edge_prob=0.09, trials=3)\n"
   ]
  },
  {
   "cell_type": "code",
   "execution_count": 10,
   "id": "ce05d6a6-7c62-4cdc-a73f-fd8afc5c8576",
   "metadata": {},
   "outputs": [
    {
     "name": "stdout",
     "output_type": "stream",
     "text": [
      "Running tests on graph with 1000 nodes, edge probability=0.1\n",
      "Trial 1:\n",
      "BFS  -> Nodes visited: 1000, Time: 0.004002 sec\n",
      "DFS  -> Nodes visited: 1000, Time: 0.000000 sec\n",
      "A-DFS -> Nodes visited: 1000, Time: 0.031837 sec\n",
      "--------------------------------------------------\n",
      "Trial 2:\n",
      "BFS  -> Nodes visited: 1000, Time: 0.015383 sec\n",
      "DFS  -> Nodes visited: 1000, Time: 0.007999 sec\n",
      "A-DFS -> Nodes visited: 1000, Time: 0.018805 sec\n",
      "--------------------------------------------------\n",
      "Trial 3:\n",
      "BFS  -> Nodes visited: 1000, Time: 0.006999 sec\n",
      "DFS  -> Nodes visited: 1000, Time: 0.003002 sec\n",
      "A-DFS -> Nodes visited: 1000, Time: 0.036731 sec\n",
      "--------------------------------------------------\n"
     ]
    }
   ],
   "source": [
    "# Run the tests\n",
    "run_tests(num_nodes=1000, edge_prob=0.1, trials=3)\n"
   ]
  },
  {
   "cell_type": "code",
   "execution_count": 11,
   "id": "47732c6c-8b76-4cb9-99e1-667e507e0f64",
   "metadata": {},
   "outputs": [
    {
     "name": "stdout",
     "output_type": "stream",
     "text": [
      "Running tests on graph with 1000 nodes, edge probability=0.2\n",
      "Trial 1:\n",
      "BFS  -> Nodes visited: 1000, Time: 0.013839 sec\n",
      "DFS  -> Nodes visited: 1000, Time: 0.012579 sec\n",
      "A-DFS -> Nodes visited: 1000, Time: 0.057746 sec\n",
      "--------------------------------------------------\n",
      "Trial 2:\n",
      "BFS  -> Nodes visited: 1000, Time: 0.014992 sec\n",
      "DFS  -> Nodes visited: 1000, Time: 0.016174 sec\n",
      "A-DFS -> Nodes visited: 1000, Time: 0.056053 sec\n",
      "--------------------------------------------------\n",
      "Trial 3:\n",
      "BFS  -> Nodes visited: 1000, Time: 0.013492 sec\n",
      "DFS  -> Nodes visited: 1000, Time: 0.005104 sec\n",
      "A-DFS -> Nodes visited: 1000, Time: 0.052119 sec\n",
      "--------------------------------------------------\n"
     ]
    }
   ],
   "source": [
    "# Run the tests\n",
    "run_tests(num_nodes=1000, edge_prob=0.2, trials=3)\n"
   ]
  },
  {
   "cell_type": "code",
   "execution_count": 12,
   "id": "83e31641-808e-4f1c-a4fd-5aa20c552114",
   "metadata": {},
   "outputs": [
    {
     "name": "stdout",
     "output_type": "stream",
     "text": [
      "Running tests on graph with 1000 nodes, edge probability=0.03\n",
      "Trial 1:\n",
      "BFS  -> Nodes visited: 1000, Time: 0.012498 sec\n",
      "DFS  -> Nodes visited: 1000, Time: 0.005964 sec\n",
      "A-DFS -> Nodes visited: 1000, Time: 0.011802 sec\n",
      "--------------------------------------------------\n",
      "Trial 2:\n",
      "BFS  -> Nodes visited: 1000, Time: 0.002004 sec\n",
      "DFS  -> Nodes visited: 1000, Time: 0.004007 sec\n",
      "A-DFS -> Nodes visited: 1000, Time: 0.009325 sec\n",
      "--------------------------------------------------\n",
      "Trial 3:\n",
      "BFS  -> Nodes visited: 1000, Time: 0.002000 sec\n",
      "DFS  -> Nodes visited: 1000, Time: 0.001790 sec\n",
      "A-DFS -> Nodes visited: 1000, Time: 0.000000 sec\n",
      "--------------------------------------------------\n"
     ]
    }
   ],
   "source": [
    "# Run the tests\n",
    "run_tests(num_nodes=1000, edge_prob=0.03, trials=3)\n"
   ]
  },
  {
   "cell_type": "code",
   "execution_count": 13,
   "id": "6c502ead-3056-45fb-84eb-be0811a03e30",
   "metadata": {},
   "outputs": [
    {
     "name": "stdout",
     "output_type": "stream",
     "text": [
      "Running tests on graph with 1000 nodes, edge probability=0.4\n",
      "Trial 1:\n",
      "BFS  -> Nodes visited: 1000, Time: 0.020603 sec\n",
      "DFS  -> Nodes visited: 1000, Time: 0.030884 sec\n",
      "A-DFS -> Nodes visited: 1000, Time: 0.122903 sec\n",
      "--------------------------------------------------\n",
      "Trial 2:\n",
      "BFS  -> Nodes visited: 1000, Time: 0.018816 sec\n",
      "DFS  -> Nodes visited: 1000, Time: 0.041582 sec\n",
      "A-DFS -> Nodes visited: 1000, Time: 0.131042 sec\n",
      "--------------------------------------------------\n",
      "Trial 3:\n",
      "BFS  -> Nodes visited: 1000, Time: 0.031978 sec\n",
      "DFS  -> Nodes visited: 1000, Time: 0.016025 sec\n",
      "A-DFS -> Nodes visited: 1000, Time: 0.127069 sec\n",
      "--------------------------------------------------\n"
     ]
    }
   ],
   "source": [
    "# Run the tests\n",
    "run_tests(num_nodes=1000, edge_prob=0.4, trials=3)\n"
   ]
  },
  {
   "cell_type": "code",
   "execution_count": 14,
   "id": "474d57cf-23d4-4f81-8ac4-d8ff8fd25c3f",
   "metadata": {},
   "outputs": [
    {
     "name": "stdout",
     "output_type": "stream",
     "text": [
      "Running tests on graph with 1000 nodes, edge probability=0.5\n",
      "Trial 1:\n",
      "BFS  -> Nodes visited: 1000, Time: 0.031882 sec\n",
      "DFS  -> Nodes visited: 1000, Time: 0.020433 sec\n",
      "A-DFS -> Nodes visited: 1000, Time: 0.168850 sec\n",
      "--------------------------------------------------\n",
      "Trial 2:\n",
      "BFS  -> Nodes visited: 1000, Time: 0.035020 sec\n",
      "DFS  -> Nodes visited: 1000, Time: 0.034845 sec\n",
      "A-DFS -> Nodes visited: 1000, Time: 0.156011 sec\n",
      "--------------------------------------------------\n",
      "Trial 3:\n",
      "BFS  -> Nodes visited: 1000, Time: 0.031594 sec\n",
      "DFS  -> Nodes visited: 1000, Time: 0.031649 sec\n",
      "A-DFS -> Nodes visited: 1000, Time: 0.143553 sec\n",
      "--------------------------------------------------\n"
     ]
    }
   ],
   "source": [
    "# Run the tests\n",
    "run_tests(num_nodes=1000, edge_prob=0.5, trials=3)\n"
   ]
  },
  {
   "cell_type": "code",
   "execution_count": 15,
   "id": "b21c6b32-37be-4e32-b9cd-21ce6bebd6f6",
   "metadata": {},
   "outputs": [
    {
     "name": "stdout",
     "output_type": "stream",
     "text": [
      "Running tests on graph with 1000 nodes, edge probability=0.6\n",
      "Trial 1:\n",
      "BFS  -> Nodes visited: 1000, Time: 0.037683 sec\n",
      "DFS  -> Nodes visited: 1000, Time: 0.026623 sec\n",
      "A-DFS -> Nodes visited: 1000, Time: 0.192768 sec\n",
      "--------------------------------------------------\n",
      "Trial 2:\n",
      "BFS  -> Nodes visited: 1000, Time: 0.029967 sec\n",
      "DFS  -> Nodes visited: 1000, Time: 0.031721 sec\n",
      "A-DFS -> Nodes visited: 1000, Time: 0.181660 sec\n",
      "--------------------------------------------------\n",
      "Trial 3:\n",
      "BFS  -> Nodes visited: 1000, Time: 0.031920 sec\n",
      "DFS  -> Nodes visited: 1000, Time: 0.032072 sec\n",
      "A-DFS -> Nodes visited: 1000, Time: 0.192575 sec\n",
      "--------------------------------------------------\n"
     ]
    }
   ],
   "source": [
    "# Run the tests\n",
    "run_tests(num_nodes=1000, edge_prob=0.6, trials=3)\n"
   ]
  },
  {
   "cell_type": "code",
   "execution_count": 16,
   "id": "140fbe32-97eb-4d27-ae1f-05a561fbf872",
   "metadata": {},
   "outputs": [
    {
     "name": "stdout",
     "output_type": "stream",
     "text": [
      "Running tests on graph with 1000 nodes, edge probability=0.7\n",
      "Trial 1:\n",
      "BFS  -> Nodes visited: 1000, Time: 0.031817 sec\n",
      "DFS  -> Nodes visited: 1000, Time: 0.053473 sec\n",
      "A-DFS -> Nodes visited: 1000, Time: 0.213220 sec\n",
      "--------------------------------------------------\n",
      "Trial 2:\n",
      "BFS  -> Nodes visited: 1000, Time: 0.030042 sec\n",
      "DFS  -> Nodes visited: 1000, Time: 0.038261 sec\n",
      "A-DFS -> Nodes visited: 1000, Time: 0.187896 sec\n",
      "--------------------------------------------------\n",
      "Trial 3:\n",
      "BFS  -> Nodes visited: 1000, Time: 0.047765 sec\n",
      "DFS  -> Nodes visited: 1000, Time: 0.019669 sec\n",
      "A-DFS -> Nodes visited: 1000, Time: 0.226255 sec\n",
      "--------------------------------------------------\n"
     ]
    }
   ],
   "source": [
    "# Run the tests\n",
    "run_tests(num_nodes=1000, edge_prob=0.7, trials=3)\n"
   ]
  },
  {
   "cell_type": "code",
   "execution_count": 17,
   "id": "745d51be-4570-403f-ba2f-97bb81a72252",
   "metadata": {},
   "outputs": [
    {
     "name": "stdout",
     "output_type": "stream",
     "text": [
      "Running tests on graph with 1000 nodes, edge probability=0.8\n",
      "Trial 1:\n",
      "BFS  -> Nodes visited: 1000, Time: 0.031930 sec\n",
      "DFS  -> Nodes visited: 1000, Time: 0.060043 sec\n",
      "A-DFS -> Nodes visited: 1000, Time: 0.243542 sec\n",
      "--------------------------------------------------\n",
      "Trial 2:\n",
      "BFS  -> Nodes visited: 1000, Time: 0.056822 sec\n",
      "DFS  -> Nodes visited: 1000, Time: 0.027982 sec\n",
      "A-DFS -> Nodes visited: 1000, Time: 0.312797 sec\n",
      "--------------------------------------------------\n",
      "Trial 3:\n",
      "BFS  -> Nodes visited: 1000, Time: 0.038471 sec\n",
      "DFS  -> Nodes visited: 1000, Time: 0.037583 sec\n",
      "A-DFS -> Nodes visited: 1000, Time: 0.232193 sec\n",
      "--------------------------------------------------\n"
     ]
    }
   ],
   "source": [
    "# Run the tests\n",
    "run_tests(num_nodes=1000, edge_prob=0.8, trials=3)\n"
   ]
  },
  {
   "cell_type": "code",
   "execution_count": 18,
   "id": "84acb0cf-edf3-465d-a2bf-e18a71e5b0c9",
   "metadata": {},
   "outputs": [
    {
     "name": "stdout",
     "output_type": "stream",
     "text": [
      "Running tests on graph with 1000 nodes, edge probability=0.9\n",
      "Trial 1:\n",
      "BFS  -> Nodes visited: 1000, Time: 0.047719 sec\n",
      "DFS  -> Nodes visited: 1000, Time: 0.053365 sec\n",
      "A-DFS -> Nodes visited: 1000, Time: 0.267555 sec\n",
      "--------------------------------------------------\n",
      "Trial 2:\n",
      "BFS  -> Nodes visited: 1000, Time: 0.032412 sec\n",
      "DFS  -> Nodes visited: 1000, Time: 0.050612 sec\n",
      "A-DFS -> Nodes visited: 1000, Time: 0.263609 sec\n",
      "--------------------------------------------------\n",
      "Trial 3:\n",
      "BFS  -> Nodes visited: 1000, Time: 0.030387 sec\n",
      "DFS  -> Nodes visited: 1000, Time: 0.052481 sec\n",
      "A-DFS -> Nodes visited: 1000, Time: 0.264808 sec\n",
      "--------------------------------------------------\n"
     ]
    }
   ],
   "source": [
    "# Run the tests\n",
    "run_tests(num_nodes=1000, edge_prob=0.9, trials=3)\n"
   ]
  },
  {
   "cell_type": "code",
   "execution_count": 19,
   "id": "df109e7d-e308-4eb0-a0a9-207e530c2c4e",
   "metadata": {},
   "outputs": [
    {
     "name": "stdout",
     "output_type": "stream",
     "text": [
      "Running tests on graph with 1000 nodes, edge probability=1\n",
      "Trial 1:\n",
      "BFS  -> Nodes visited: 1000, Time: 0.040344 sec\n",
      "DFS  -> Nodes visited: 1000, Time: 0.061056 sec\n",
      "A-DFS -> Nodes visited: 1000, Time: 0.184094 sec\n",
      "--------------------------------------------------\n",
      "Trial 2:\n",
      "BFS  -> Nodes visited: 1000, Time: 0.051282 sec\n",
      "DFS  -> Nodes visited: 1000, Time: 0.035495 sec\n",
      "A-DFS -> Nodes visited: 1000, Time: 0.178139 sec\n",
      "--------------------------------------------------\n",
      "Trial 3:\n",
      "BFS  -> Nodes visited: 1000, Time: 0.048788 sec\n",
      "DFS  -> Nodes visited: 1000, Time: 0.052874 sec\n",
      "A-DFS -> Nodes visited: 1000, Time: 0.172087 sec\n",
      "--------------------------------------------------\n"
     ]
    }
   ],
   "source": [
    "# Run the tests\n",
    "run_tests(num_nodes=1000, edge_prob=1, trials=3)\n"
   ]
  },
  {
   "cell_type": "code",
   "execution_count": 20,
   "id": "873d92ad-bbb4-4939-b0cf-70f0e08ee643",
   "metadata": {},
   "outputs": [
    {
     "name": "stdout",
     "output_type": "stream",
     "text": [
      "Running tests on graph with 1000 nodes, edge probability=0.001\n",
      "Trial 1:\n",
      "BFS  -> Nodes visited: 4, Time: 0.000000 sec\n",
      "DFS  -> Nodes visited: 4, Time: 0.000000 sec\n",
      "A-DFS -> Nodes visited: 4, Time: 0.000000 sec\n",
      "--------------------------------------------------\n",
      "Trial 2:\n",
      "BFS  -> Nodes visited: 2, Time: 0.000000 sec\n",
      "DFS  -> Nodes visited: 2, Time: 0.000000 sec\n",
      "A-DFS -> Nodes visited: 2, Time: 0.000000 sec\n",
      "--------------------------------------------------\n",
      "Trial 3:\n",
      "BFS  -> Nodes visited: 3, Time: 0.000000 sec\n",
      "DFS  -> Nodes visited: 3, Time: 0.000000 sec\n",
      "A-DFS -> Nodes visited: 3, Time: 0.000000 sec\n",
      "--------------------------------------------------\n"
     ]
    }
   ],
   "source": [
    "# Run the tests\n",
    "run_tests(num_nodes=1000, edge_prob=0.001, trials=3)\n"
   ]
  },
  {
   "cell_type": "code",
   "execution_count": 21,
   "id": "4f961b4b-a735-43ea-b440-bfddde4702c6",
   "metadata": {},
   "outputs": [
    {
     "name": "stdout",
     "output_type": "stream",
     "text": [
      "Running tests on graph with 10000 nodes, edge probability=0.02\n",
      "Trial 1:\n",
      "BFS  -> Nodes visited: 10000, Time: 0.178436 sec\n",
      "DFS  -> Nodes visited: 10000, Time: 0.190614 sec\n",
      "A-DFS -> Nodes visited: 10000, Time: 0.751650 sec\n",
      "--------------------------------------------------\n",
      "Trial 2:\n",
      "BFS  -> Nodes visited: 10000, Time: 0.203727 sec\n",
      "DFS  -> Nodes visited: 10000, Time: 0.177615 sec\n",
      "A-DFS -> Nodes visited: 10000, Time: 0.907434 sec\n",
      "--------------------------------------------------\n",
      "Trial 3:\n",
      "BFS  -> Nodes visited: 10000, Time: 0.209434 sec\n",
      "DFS  -> Nodes visited: 10000, Time: 0.189402 sec\n",
      "A-DFS -> Nodes visited: 10000, Time: 0.800329 sec\n",
      "--------------------------------------------------\n"
     ]
    }
   ],
   "source": [
    "# Run the tests\n",
    "run_tests(num_nodes=10000, edge_prob=0.02, trials=3)\n"
   ]
  },
  {
   "cell_type": "code",
   "execution_count": 23,
   "id": "dc97ffb0-798a-4c58-a5b7-a93763c4ed69",
   "metadata": {},
   "outputs": [
    {
     "name": "stdout",
     "output_type": "stream",
     "text": [
      "Running tests on graph with 10000 nodes, edge probability=0.05\n",
      "Trial 1:\n",
      "BFS  -> Nodes visited: 10000, Time: 0.475067 sec\n",
      "DFS  -> Nodes visited: 10000, Time: 0.508217 sec\n",
      "A-DFS -> Nodes visited: 10000, Time: 2.177502 sec\n",
      "--------------------------------------------------\n",
      "Trial 2:\n",
      "BFS  -> Nodes visited: 10000, Time: 0.465548 sec\n",
      "DFS  -> Nodes visited: 10000, Time: 0.551142 sec\n",
      "A-DFS -> Nodes visited: 10000, Time: 2.095093 sec\n",
      "--------------------------------------------------\n",
      "Trial 3:\n",
      "BFS  -> Nodes visited: 10000, Time: 0.473614 sec\n",
      "DFS  -> Nodes visited: 10000, Time: 0.495049 sec\n",
      "A-DFS -> Nodes visited: 10000, Time: 2.290160 sec\n",
      "--------------------------------------------------\n"
     ]
    }
   ],
   "source": [
    "# Run the tests\n",
    "run_tests(num_nodes=10000, edge_prob=0.05, trials=3)\n"
   ]
  },
  {
   "cell_type": "code",
   "execution_count": 25,
   "id": "4cace618-6c46-46c0-9d46-e41a92cc54ee",
   "metadata": {},
   "outputs": [
    {
     "name": "stdout",
     "output_type": "stream",
     "text": [
      "Running tests on graph with 10000 nodes, edge probability=0.09\n",
      "Trial 1:\n",
      "BFS  -> Nodes visited: 10000, Time: 0.810418 sec\n",
      "DFS  -> Nodes visited: 10000, Time: 0.834034 sec\n",
      "A-DFS -> Nodes visited: 10000, Time: 4.647921 sec\n",
      "--------------------------------------------------\n",
      "Trial 2:\n",
      "BFS  -> Nodes visited: 10000, Time: 0.868726 sec\n",
      "DFS  -> Nodes visited: 10000, Time: 0.875987 sec\n",
      "A-DFS -> Nodes visited: 10000, Time: 4.415277 sec\n",
      "--------------------------------------------------\n",
      "Trial 3:\n",
      "BFS  -> Nodes visited: 10000, Time: 0.829334 sec\n",
      "DFS  -> Nodes visited: 10000, Time: 0.781793 sec\n",
      "A-DFS -> Nodes visited: 10000, Time: 4.342646 sec\n",
      "--------------------------------------------------\n"
     ]
    }
   ],
   "source": [
    "# Run the tests\n",
    "run_tests(num_nodes=10000, edge_prob=0.09, trials=3)\n"
   ]
  },
  {
   "cell_type": "code",
   "execution_count": 26,
   "id": "c6049234-1d49-456c-b634-334bf352abed",
   "metadata": {},
   "outputs": [
    {
     "name": "stdout",
     "output_type": "stream",
     "text": [
      "Running tests on graph with 10000 nodes, edge probability=0.1\n",
      "Trial 1:\n",
      "BFS  -> Nodes visited: 10000, Time: 0.958379 sec\n",
      "DFS  -> Nodes visited: 10000, Time: 0.956627 sec\n",
      "A-DFS -> Nodes visited: 10000, Time: 4.992993 sec\n",
      "--------------------------------------------------\n",
      "Trial 2:\n",
      "BFS  -> Nodes visited: 10000, Time: 1.108007 sec\n",
      "DFS  -> Nodes visited: 10000, Time: 1.079599 sec\n",
      "A-DFS -> Nodes visited: 10000, Time: 5.548054 sec\n",
      "--------------------------------------------------\n",
      "Trial 3:\n",
      "BFS  -> Nodes visited: 10000, Time: 1.236576 sec\n",
      "DFS  -> Nodes visited: 10000, Time: 1.147963 sec\n",
      "A-DFS -> Nodes visited: 10000, Time: 5.498055 sec\n",
      "--------------------------------------------------\n"
     ]
    }
   ],
   "source": [
    "# Run the tests\n",
    "run_tests(num_nodes=10000, edge_prob=0.1, trials=3)\n"
   ]
  },
  {
   "cell_type": "code",
   "execution_count": 27,
   "id": "1ed41820-b369-4fb1-a133-4f367cd69405",
   "metadata": {},
   "outputs": [
    {
     "name": "stdout",
     "output_type": "stream",
     "text": [
      "Running tests on graph with 10000 nodes, edge probability=0.2\n",
      "Trial 1:\n",
      "BFS  -> Nodes visited: 10000, Time: 2.412369 sec\n",
      "DFS  -> Nodes visited: 10000, Time: 2.411058 sec\n",
      "A-DFS -> Nodes visited: 10000, Time: 12.873647 sec\n",
      "--------------------------------------------------\n",
      "Trial 2:\n",
      "BFS  -> Nodes visited: 10000, Time: 2.273456 sec\n",
      "DFS  -> Nodes visited: 10000, Time: 2.212921 sec\n",
      "A-DFS -> Nodes visited: 10000, Time: 11.518947 sec\n",
      "--------------------------------------------------\n",
      "Trial 3:\n",
      "BFS  -> Nodes visited: 10000, Time: 4.761231 sec\n",
      "DFS  -> Nodes visited: 10000, Time: 2.331894 sec\n",
      "A-DFS -> Nodes visited: 10000, Time: 11.612730 sec\n",
      "--------------------------------------------------\n"
     ]
    }
   ],
   "source": [
    "# Run the tests\n",
    "run_tests(num_nodes=10000, edge_prob=0.2, trials=3)\n"
   ]
  },
  {
   "cell_type": "code",
   "execution_count": 28,
   "id": "05b290a5-247c-436b-998b-05af4f77ffee",
   "metadata": {},
   "outputs": [
    {
     "name": "stdout",
     "output_type": "stream",
     "text": [
      "Running tests on graph with 10000 nodes, edge probability=0.3\n",
      "Trial 1:\n",
      "BFS  -> Nodes visited: 10000, Time: 3.004284 sec\n",
      "DFS  -> Nodes visited: 10000, Time: 3.014300 sec\n",
      "A-DFS -> Nodes visited: 10000, Time: 16.990514 sec\n",
      "--------------------------------------------------\n",
      "Trial 2:\n",
      "BFS  -> Nodes visited: 10000, Time: 3.309604 sec\n",
      "DFS  -> Nodes visited: 10000, Time: 2.889050 sec\n",
      "A-DFS -> Nodes visited: 10000, Time: 16.884868 sec\n",
      "--------------------------------------------------\n",
      "Trial 3:\n",
      "BFS  -> Nodes visited: 10000, Time: 3.329830 sec\n",
      "DFS  -> Nodes visited: 10000, Time: 3.486719 sec\n",
      "A-DFS -> Nodes visited: 10000, Time: 21.020965 sec\n",
      "--------------------------------------------------\n"
     ]
    }
   ],
   "source": [
    "# Run the tests\n",
    "run_tests(num_nodes=10000, edge_prob=0.3, trials=3)\n"
   ]
  },
  {
   "cell_type": "code",
   "execution_count": 29,
   "id": "b50b033a-87d5-4e2e-b556-4a37c305507e",
   "metadata": {},
   "outputs": [
    {
     "name": "stdout",
     "output_type": "stream",
     "text": [
      "Running tests on graph with 10000 nodes, edge probability=0.4\n",
      "Trial 1:\n",
      "BFS  -> Nodes visited: 10000, Time: 4.454536 sec\n",
      "DFS  -> Nodes visited: 10000, Time: 4.529860 sec\n",
      "A-DFS -> Nodes visited: 10000, Time: 25.713940 sec\n",
      "--------------------------------------------------\n",
      "Trial 2:\n",
      "BFS  -> Nodes visited: 10000, Time: 6.384859 sec\n",
      "DFS  -> Nodes visited: 10000, Time: 4.888081 sec\n",
      "A-DFS -> Nodes visited: 10000, Time: 27.984166 sec\n",
      "--------------------------------------------------\n",
      "Trial 3:\n",
      "BFS  -> Nodes visited: 10000, Time: 3.745493 sec\n",
      "DFS  -> Nodes visited: 10000, Time: 3.827953 sec\n",
      "A-DFS -> Nodes visited: 10000, Time: 23.993739 sec\n",
      "--------------------------------------------------\n"
     ]
    }
   ],
   "source": [
    "# Run the tests\n",
    "run_tests(num_nodes=10000, edge_prob=0.4, trials=3)\n"
   ]
  },
  {
   "cell_type": "code",
   "execution_count": 30,
   "id": "c5696658-f896-4f7b-8587-f921f391cb3b",
   "metadata": {},
   "outputs": [
    {
     "name": "stdout",
     "output_type": "stream",
     "text": [
      "Running tests on graph with 10000 nodes, edge probability=0.5\n",
      "Trial 1:\n",
      "BFS  -> Nodes visited: 10000, Time: 14.038842 sec\n",
      "DFS  -> Nodes visited: 10000, Time: 8.420889 sec\n",
      "A-DFS -> Nodes visited: 10000, Time: 38.328028 sec\n",
      "--------------------------------------------------\n",
      "Trial 2:\n",
      "BFS  -> Nodes visited: 10000, Time: 11.841160 sec\n",
      "DFS  -> Nodes visited: 10000, Time: 8.951555 sec\n",
      "A-DFS -> Nodes visited: 10000, Time: 35.938541 sec\n",
      "--------------------------------------------------\n",
      "Trial 3:\n",
      "BFS  -> Nodes visited: 10000, Time: 10.547322 sec\n",
      "DFS  -> Nodes visited: 10000, Time: 7.733567 sec\n",
      "A-DFS -> Nodes visited: 10000, Time: 38.273631 sec\n",
      "--------------------------------------------------\n"
     ]
    }
   ],
   "source": [
    "# Run the tests\n",
    "run_tests(num_nodes=10000, edge_prob=0.5, trials=3)\n"
   ]
  },
  {
   "cell_type": "code",
   "execution_count": 31,
   "id": "c5d7c144-201d-4f23-b77d-0bba7243eaf6",
   "metadata": {},
   "outputs": [
    {
     "name": "stdout",
     "output_type": "stream",
     "text": [
      "Running tests on graph with 10000 nodes, edge probability=0.7\n",
      "Trial 1:\n",
      "BFS  -> Nodes visited: 10000, Time: 14.622068 sec\n",
      "DFS  -> Nodes visited: 10000, Time: 8.958713 sec\n",
      "A-DFS -> Nodes visited: 10000, Time: 46.529455 sec\n",
      "--------------------------------------------------\n",
      "Trial 2:\n",
      "BFS  -> Nodes visited: 10000, Time: 16.053479 sec\n",
      "DFS  -> Nodes visited: 10000, Time: 10.898467 sec\n",
      "A-DFS -> Nodes visited: 10000, Time: 50.503234 sec\n",
      "--------------------------------------------------\n",
      "Trial 3:\n",
      "BFS  -> Nodes visited: 10000, Time: 19.149718 sec\n",
      "DFS  -> Nodes visited: 10000, Time: 12.136922 sec\n",
      "A-DFS -> Nodes visited: 10000, Time: 66.654302 sec\n",
      "--------------------------------------------------\n"
     ]
    }
   ],
   "source": [
    "# Run the tests\n",
    "run_tests(num_nodes=10000, edge_prob=0.7, trials=3)\n"
   ]
  },
  {
   "cell_type": "markdown",
   "id": "ba86da42-e371-4830-9114-cab946c98f80",
   "metadata": {},
   "source": [
    "### Optimized A-DFS"
   ]
  },
  {
   "cell_type": "code",
   "execution_count": 5,
   "id": "a5214878-fc5a-41fd-baa1-fae50caaa3c2",
   "metadata": {},
   "outputs": [],
   "source": [
    "def adaptive_dfs_optimized(graph, start, switch_threshold=3):\n",
    "    stack = [(start, 0)]  # (node, depth)\n",
    "    visited = set([start])\n",
    "    node_count = 0\n",
    "\n",
    "    while stack:\n",
    "        node, depth = stack.pop()\n",
    "        node_count += 1  # Counting visited nodes\n",
    "        \n",
    "        neighbors = graph[node]\n",
    "        \n",
    "        # Sort neighbors only when the threshold is surpassed\n",
    "        if depth < switch_threshold:\n",
    "            # Prioritize high-degree nodes only at certain depth levels\n",
    "            neighbors = sorted(neighbors, key=lambda x: len(graph[x]), reverse=True)\n",
    "        \n",
    "        for neighbor in neighbors:\n",
    "            if neighbor not in visited:\n",
    "                visited.add(neighbor)\n",
    "\n",
    "                if depth < switch_threshold:\n",
    "                    stack.append((neighbor, depth + 1))  # DFS mode\n",
    "                else:\n",
    "                    stack.insert(0, (neighbor, depth))  # BFS-like insertion\n",
    "    \n",
    "    return node_count\n"
   ]
  },
  {
   "cell_type": "code",
   "execution_count": 6,
   "id": "55d24053-c3b1-4089-829c-b53d0c636f6f",
   "metadata": {},
   "outputs": [],
   "source": [
    "def run_tests_optimized(num_nodes=1000, edge_prob=0.02, trials=3):\n",
    "    \"\"\"Compares BFS, DFS, and Optimized Adaptive-DFS on randomly generated graphs.\"\"\"\n",
    "    print(f\"Running optimized tests on graph with {num_nodes} nodes, edge probability={edge_prob}\")\n",
    "\n",
    "    for t in range(trials):\n",
    "        graph = generate_graph(num_nodes, edge_prob)\n",
    "        start_node = random.choice(list(graph.keys()))\n",
    "\n",
    "        # BFS Test\n",
    "        start_time = time.time()\n",
    "        bfs_nodes = bfs(graph, start_node)\n",
    "        bfs_time = time.time() - start_time\n",
    "\n",
    "        # DFS Test\n",
    "        start_time = time.time()\n",
    "        dfs_nodes = dfs(graph, start_node)\n",
    "        dfs_time = time.time() - start_time\n",
    "\n",
    "        # Optimized A-DFS Test\n",
    "        start_time = time.time()\n",
    "        adfs_nodes = adaptive_dfs_optimized(graph, start_node)\n",
    "        adfs_time = time.time() - start_time\n",
    "\n",
    "        print(f\"Trial {t+1}:\")\n",
    "        print(f\"BFS  -> Nodes visited: {bfs_nodes}, Time: {bfs_time:.6f} sec\")\n",
    "        print(f\"DFS  -> Nodes visited: {dfs_nodes}, Time: {dfs_time:.6f} sec\")\n",
    "        print(f\"A-DFS -> Nodes visited: {adfs_nodes}, Time: {adfs_time:.6f} sec\")\n",
    "        print(\"-\" * 50)\n",
    "\n"
   ]
  },
  {
   "cell_type": "code",
   "execution_count": 7,
   "id": "020ca10a-903b-4377-a7b2-b1ca1f6ca9fa",
   "metadata": {},
   "outputs": [
    {
     "name": "stdout",
     "output_type": "stream",
     "text": [
      "Running optimized tests on graph with 1000 nodes, edge probability=0.02\n",
      "Trial 1:\n",
      "BFS  -> Nodes visited: 1000, Time: 0.002958 sec\n",
      "DFS  -> Nodes visited: 1000, Time: 0.003000 sec\n",
      "A-DFS -> Nodes visited: 1000, Time: 0.004006 sec\n",
      "--------------------------------------------------\n",
      "Trial 2:\n",
      "BFS  -> Nodes visited: 1000, Time: 0.000000 sec\n",
      "DFS  -> Nodes visited: 1000, Time: 0.015934 sec\n",
      "A-DFS -> Nodes visited: 1000, Time: 0.000000 sec\n",
      "--------------------------------------------------\n",
      "Trial 3:\n",
      "BFS  -> Nodes visited: 1000, Time: 0.003003 sec\n",
      "DFS  -> Nodes visited: 1000, Time: 0.002008 sec\n",
      "A-DFS -> Nodes visited: 1000, Time: 0.002993 sec\n",
      "--------------------------------------------------\n"
     ]
    }
   ],
   "source": [
    "# Run optimized tests\n",
    "run_tests_optimized(num_nodes=1000, edge_prob=0.02, trials=3)"
   ]
  },
  {
   "cell_type": "code",
   "execution_count": 8,
   "id": "da094ad6-0dba-42ca-88cf-41befb0b5633",
   "metadata": {},
   "outputs": [
    {
     "name": "stdout",
     "output_type": "stream",
     "text": [
      "Running optimized tests on graph with 1000 nodes, edge probability=0.05\n",
      "Trial 1:\n",
      "BFS  -> Nodes visited: 1000, Time: 0.005998 sec\n",
      "DFS  -> Nodes visited: 1000, Time: 0.009000 sec\n",
      "A-DFS -> Nodes visited: 1000, Time: 0.009840 sec\n",
      "--------------------------------------------------\n",
      "Trial 2:\n",
      "BFS  -> Nodes visited: 1000, Time: 0.007043 sec\n",
      "DFS  -> Nodes visited: 1000, Time: 0.010638 sec\n",
      "A-DFS -> Nodes visited: 1000, Time: 0.013994 sec\n",
      "--------------------------------------------------\n",
      "Trial 3:\n",
      "BFS  -> Nodes visited: 1000, Time: 0.006002 sec\n",
      "DFS  -> Nodes visited: 1000, Time: 0.004874 sec\n",
      "A-DFS -> Nodes visited: 1000, Time: 0.006999 sec\n",
      "--------------------------------------------------\n"
     ]
    }
   ],
   "source": [
    "# Run optimized tests\n",
    "run_tests_optimized(num_nodes=1000, edge_prob=0.05, trials=3)"
   ]
  },
  {
   "cell_type": "code",
   "execution_count": 9,
   "id": "9394aba1-e0bc-4487-a28d-ee8dc1dd7e05",
   "metadata": {},
   "outputs": [
    {
     "name": "stdout",
     "output_type": "stream",
     "text": [
      "Running optimized tests on graph with 1000 nodes, edge probability=0.09\n",
      "Trial 1:\n",
      "BFS  -> Nodes visited: 1000, Time: 0.028413 sec\n",
      "DFS  -> Nodes visited: 1000, Time: 0.016793 sec\n",
      "A-DFS -> Nodes visited: 1000, Time: 0.006998 sec\n",
      "--------------------------------------------------\n",
      "Trial 2:\n",
      "BFS  -> Nodes visited: 1000, Time: 0.011686 sec\n",
      "DFS  -> Nodes visited: 1000, Time: 0.000000 sec\n",
      "A-DFS -> Nodes visited: 1000, Time: 0.028301 sec\n",
      "--------------------------------------------------\n",
      "Trial 3:\n",
      "BFS  -> Nodes visited: 1000, Time: 0.011040 sec\n",
      "DFS  -> Nodes visited: 1000, Time: 0.009868 sec\n",
      "A-DFS -> Nodes visited: 1000, Time: 0.009956 sec\n",
      "--------------------------------------------------\n"
     ]
    }
   ],
   "source": [
    "# Run optimized tests\n",
    "run_tests_optimized(num_nodes=1000, edge_prob=0.09, trials=3)"
   ]
  },
  {
   "cell_type": "code",
   "execution_count": 10,
   "id": "3af45f3d-4e5c-4573-8be5-916caade31db",
   "metadata": {},
   "outputs": [
    {
     "name": "stdout",
     "output_type": "stream",
     "text": [
      "Running optimized tests on graph with 1000 nodes, edge probability=0.1\n",
      "Trial 1:\n",
      "BFS  -> Nodes visited: 1000, Time: 0.015898 sec\n",
      "DFS  -> Nodes visited: 1000, Time: 0.015996 sec\n",
      "A-DFS -> Nodes visited: 1000, Time: 0.029467 sec\n",
      "--------------------------------------------------\n",
      "Trial 2:\n",
      "BFS  -> Nodes visited: 1000, Time: 0.011001 sec\n",
      "DFS  -> Nodes visited: 1000, Time: 0.005000 sec\n",
      "A-DFS -> Nodes visited: 1000, Time: 0.015870 sec\n",
      "--------------------------------------------------\n",
      "Trial 3:\n",
      "BFS  -> Nodes visited: 1000, Time: 0.003325 sec\n",
      "DFS  -> Nodes visited: 1000, Time: 0.019076 sec\n",
      "A-DFS -> Nodes visited: 1000, Time: 0.015814 sec\n",
      "--------------------------------------------------\n"
     ]
    }
   ],
   "source": [
    "# Run optimized tests\n",
    "run_tests_optimized(num_nodes=1000, edge_prob=0.1, trials=3)"
   ]
  },
  {
   "cell_type": "code",
   "execution_count": 11,
   "id": "d59f237e-d37f-4de8-b8f8-b4c81615cc6c",
   "metadata": {},
   "outputs": [
    {
     "name": "stdout",
     "output_type": "stream",
     "text": [
      "Running optimized tests on graph with 1000 nodes, edge probability=0.3\n",
      "Trial 1:\n",
      "BFS  -> Nodes visited: 1000, Time: 0.030928 sec\n",
      "DFS  -> Nodes visited: 1000, Time: 0.032906 sec\n",
      "A-DFS -> Nodes visited: 1000, Time: 0.101335 sec\n",
      "--------------------------------------------------\n",
      "Trial 2:\n",
      "BFS  -> Nodes visited: 1000, Time: 0.033837 sec\n",
      "DFS  -> Nodes visited: 1000, Time: 0.011958 sec\n",
      "A-DFS -> Nodes visited: 1000, Time: 0.104752 sec\n",
      "--------------------------------------------------\n",
      "Trial 3:\n",
      "BFS  -> Nodes visited: 1000, Time: 0.032497 sec\n",
      "DFS  -> Nodes visited: 1000, Time: 0.025849 sec\n",
      "A-DFS -> Nodes visited: 1000, Time: 0.089782 sec\n",
      "--------------------------------------------------\n"
     ]
    }
   ],
   "source": [
    "# Run optimized tests\n",
    "run_tests_optimized(num_nodes=1000, edge_prob=0.3, trials=3)"
   ]
  },
  {
   "cell_type": "code",
   "execution_count": 12,
   "id": "64eb7ea9-6e56-4e75-a02c-4f83214cc1c3",
   "metadata": {},
   "outputs": [
    {
     "name": "stdout",
     "output_type": "stream",
     "text": [
      "Running optimized tests on graph with 1000 nodes, edge probability=0.5\n",
      "Trial 1:\n",
      "BFS  -> Nodes visited: 1000, Time: 0.047598 sec\n",
      "DFS  -> Nodes visited: 1000, Time: 0.047454 sec\n",
      "A-DFS -> Nodes visited: 1000, Time: 0.183521 sec\n",
      "--------------------------------------------------\n",
      "Trial 2:\n",
      "BFS  -> Nodes visited: 1000, Time: 0.040867 sec\n",
      "DFS  -> Nodes visited: 1000, Time: 0.044721 sec\n",
      "A-DFS -> Nodes visited: 1000, Time: 0.216420 sec\n",
      "--------------------------------------------------\n",
      "Trial 3:\n",
      "BFS  -> Nodes visited: 1000, Time: 0.060900 sec\n",
      "DFS  -> Nodes visited: 1000, Time: 0.054631 sec\n",
      "A-DFS -> Nodes visited: 1000, Time: 0.209371 sec\n",
      "--------------------------------------------------\n"
     ]
    }
   ],
   "source": [
    "# Run optimized tests\n",
    "run_tests_optimized(num_nodes=1000, edge_prob=0.5, trials=3)"
   ]
  },
  {
   "cell_type": "code",
   "execution_count": 13,
   "id": "7e7bab2f-82e5-40b3-bd4c-0e10bf69ecbb",
   "metadata": {},
   "outputs": [
    {
     "name": "stdout",
     "output_type": "stream",
     "text": [
      "Running optimized tests on graph with 1000 nodes, edge probability=0.9\n",
      "Trial 1:\n",
      "BFS  -> Nodes visited: 1000, Time: 0.068917 sec\n",
      "DFS  -> Nodes visited: 1000, Time: 0.062719 sec\n",
      "A-DFS -> Nodes visited: 1000, Time: 0.472605 sec\n",
      "--------------------------------------------------\n",
      "Trial 2:\n",
      "BFS  -> Nodes visited: 1000, Time: 0.065961 sec\n",
      "DFS  -> Nodes visited: 1000, Time: 0.059719 sec\n",
      "A-DFS -> Nodes visited: 1000, Time: 0.384839 sec\n",
      "--------------------------------------------------\n",
      "Trial 3:\n",
      "BFS  -> Nodes visited: 1000, Time: 0.069396 sec\n",
      "DFS  -> Nodes visited: 1000, Time: 0.104916 sec\n",
      "A-DFS -> Nodes visited: 1000, Time: 0.595008 sec\n",
      "--------------------------------------------------\n"
     ]
    }
   ],
   "source": [
    "# Run optimized tests\n",
    "run_tests_optimized(num_nodes=1000, edge_prob=0.9, trials=3)"
   ]
  },
  {
   "cell_type": "code",
   "execution_count": 14,
   "id": "5400bb1f-a0e4-4bf3-b0b0-0b51257f4d89",
   "metadata": {},
   "outputs": [
    {
     "name": "stdout",
     "output_type": "stream",
     "text": [
      "Running optimized tests on graph with 1000 nodes, edge probability=1\n",
      "Trial 1:\n",
      "BFS  -> Nodes visited: 1000, Time: 0.087219 sec\n",
      "DFS  -> Nodes visited: 1000, Time: 0.104426 sec\n",
      "A-DFS -> Nodes visited: 1000, Time: 0.434696 sec\n",
      "--------------------------------------------------\n",
      "Trial 2:\n",
      "BFS  -> Nodes visited: 1000, Time: 0.079664 sec\n",
      "DFS  -> Nodes visited: 1000, Time: 0.079914 sec\n",
      "A-DFS -> Nodes visited: 1000, Time: 0.371528 sec\n",
      "--------------------------------------------------\n",
      "Trial 3:\n",
      "BFS  -> Nodes visited: 1000, Time: 0.101677 sec\n",
      "DFS  -> Nodes visited: 1000, Time: 0.086354 sec\n",
      "A-DFS -> Nodes visited: 1000, Time: 0.353151 sec\n",
      "--------------------------------------------------\n"
     ]
    }
   ],
   "source": [
    "# Run optimized tests\n",
    "run_tests_optimized(num_nodes=1000, edge_prob=1, trials=3)"
   ]
  },
  {
   "cell_type": "code",
   "execution_count": 15,
   "id": "7eb5162c-84fa-436d-944c-cc5fee694aca",
   "metadata": {},
   "outputs": [
    {
     "name": "stdout",
     "output_type": "stream",
     "text": [
      "Running optimized tests on graph with 10000 nodes, edge probability=0.02\n",
      "Trial 1:\n",
      "BFS  -> Nodes visited: 10000, Time: 0.241117 sec\n",
      "DFS  -> Nodes visited: 10000, Time: 0.307867 sec\n",
      "A-DFS -> Nodes visited: 10000, Time: 0.437407 sec\n",
      "--------------------------------------------------\n",
      "Trial 2:\n",
      "BFS  -> Nodes visited: 10000, Time: 0.321001 sec\n",
      "DFS  -> Nodes visited: 10000, Time: 0.292022 sec\n",
      "A-DFS -> Nodes visited: 10000, Time: 0.387113 sec\n",
      "--------------------------------------------------\n",
      "Trial 3:\n",
      "BFS  -> Nodes visited: 10000, Time: 0.298344 sec\n",
      "DFS  -> Nodes visited: 10000, Time: 0.288081 sec\n",
      "A-DFS -> Nodes visited: 10000, Time: 0.461709 sec\n",
      "--------------------------------------------------\n"
     ]
    }
   ],
   "source": [
    "# Run optimized tests\n",
    "run_tests_optimized(num_nodes=10000, edge_prob=0.02, trials=3)"
   ]
  },
  {
   "cell_type": "code",
   "execution_count": 16,
   "id": "eaa03ca4-a7df-4fea-8e61-e7a711f26b6e",
   "metadata": {},
   "outputs": [
    {
     "name": "stdout",
     "output_type": "stream",
     "text": [
      "Running optimized tests on graph with 10000 nodes, edge probability=0.05\n",
      "Trial 1:\n",
      "BFS  -> Nodes visited: 10000, Time: 0.775091 sec\n",
      "DFS  -> Nodes visited: 10000, Time: 0.613078 sec\n",
      "A-DFS -> Nodes visited: 10000, Time: 1.049256 sec\n",
      "--------------------------------------------------\n",
      "Trial 2:\n",
      "BFS  -> Nodes visited: 10000, Time: 0.596593 sec\n",
      "DFS  -> Nodes visited: 10000, Time: 0.593078 sec\n",
      "A-DFS -> Nodes visited: 10000, Time: 1.012105 sec\n",
      "--------------------------------------------------\n",
      "Trial 3:\n",
      "BFS  -> Nodes visited: 10000, Time: 0.642376 sec\n",
      "DFS  -> Nodes visited: 10000, Time: 0.579205 sec\n",
      "A-DFS -> Nodes visited: 10000, Time: 0.805063 sec\n",
      "--------------------------------------------------\n"
     ]
    }
   ],
   "source": [
    "# Run optimized tests\n",
    "run_tests_optimized(num_nodes=10000, edge_prob=0.05, trials=3)"
   ]
  },
  {
   "cell_type": "code",
   "execution_count": 17,
   "id": "3de50d83-b7ad-4a66-a2cf-bc5295d037cd",
   "metadata": {},
   "outputs": [
    {
     "name": "stdout",
     "output_type": "stream",
     "text": [
      "Running optimized tests on graph with 10000 nodes, edge probability=0.07\n",
      "Trial 1:\n",
      "BFS  -> Nodes visited: 10000, Time: 0.898328 sec\n",
      "DFS  -> Nodes visited: 10000, Time: 0.908360 sec\n",
      "A-DFS -> Nodes visited: 10000, Time: 1.354072 sec\n",
      "--------------------------------------------------\n",
      "Trial 2:\n",
      "BFS  -> Nodes visited: 10000, Time: 0.970649 sec\n",
      "DFS  -> Nodes visited: 10000, Time: 1.033277 sec\n",
      "A-DFS -> Nodes visited: 10000, Time: 1.649635 sec\n",
      "--------------------------------------------------\n",
      "Trial 3:\n",
      "BFS  -> Nodes visited: 10000, Time: 1.097372 sec\n",
      "DFS  -> Nodes visited: 10000, Time: 1.151152 sec\n",
      "A-DFS -> Nodes visited: 10000, Time: 1.694587 sec\n",
      "--------------------------------------------------\n"
     ]
    }
   ],
   "source": [
    "# Run optimized tests\n",
    "run_tests_optimized(num_nodes=10000, edge_prob=0.07, trials=3)"
   ]
  },
  {
   "cell_type": "code",
   "execution_count": 18,
   "id": "6130c694-7056-4061-9c7e-f0fec5886c03",
   "metadata": {},
   "outputs": [
    {
     "name": "stdout",
     "output_type": "stream",
     "text": [
      "Running optimized tests on graph with 10000 nodes, edge probability=0.09\n",
      "Trial 1:\n",
      "BFS  -> Nodes visited: 10000, Time: 1.109296 sec\n",
      "DFS  -> Nodes visited: 10000, Time: 1.013424 sec\n",
      "A-DFS -> Nodes visited: 10000, Time: 1.843956 sec\n",
      "--------------------------------------------------\n",
      "Trial 2:\n",
      "BFS  -> Nodes visited: 10000, Time: 1.232790 sec\n",
      "DFS  -> Nodes visited: 10000, Time: 1.022667 sec\n",
      "A-DFS -> Nodes visited: 10000, Time: 1.937579 sec\n",
      "--------------------------------------------------\n",
      "Trial 3:\n",
      "BFS  -> Nodes visited: 10000, Time: 1.324257 sec\n",
      "DFS  -> Nodes visited: 10000, Time: 1.172176 sec\n",
      "A-DFS -> Nodes visited: 10000, Time: 2.260770 sec\n",
      "--------------------------------------------------\n"
     ]
    }
   ],
   "source": [
    "# Run optimized tests\n",
    "run_tests_optimized(num_nodes=10000, edge_prob=0.09, trials=3)"
   ]
  },
  {
   "cell_type": "code",
   "execution_count": 19,
   "id": "6893bcf5-9758-4276-8edf-c20c3a814dca",
   "metadata": {},
   "outputs": [
    {
     "name": "stdout",
     "output_type": "stream",
     "text": [
      "Running optimized tests on graph with 10000 nodes, edge probability=0.1\n",
      "Trial 1:\n",
      "BFS  -> Nodes visited: 10000, Time: 1.194525 sec\n",
      "DFS  -> Nodes visited: 10000, Time: 1.205334 sec\n",
      "A-DFS -> Nodes visited: 10000, Time: 2.910231 sec\n",
      "--------------------------------------------------\n",
      "Trial 2:\n",
      "BFS  -> Nodes visited: 10000, Time: 1.183530 sec\n",
      "DFS  -> Nodes visited: 10000, Time: 1.059667 sec\n",
      "A-DFS -> Nodes visited: 10000, Time: 2.164203 sec\n",
      "--------------------------------------------------\n",
      "Trial 3:\n",
      "BFS  -> Nodes visited: 10000, Time: 1.049008 sec\n",
      "DFS  -> Nodes visited: 10000, Time: 1.056268 sec\n",
      "A-DFS -> Nodes visited: 10000, Time: 2.317018 sec\n",
      "--------------------------------------------------\n"
     ]
    }
   ],
   "source": [
    "# Run optimized tests\n",
    "run_tests_optimized(num_nodes=10000, edge_prob=0.1, trials=3)"
   ]
  },
  {
   "cell_type": "code",
   "execution_count": 20,
   "id": "4dd6d9c3-a2b8-4819-bafb-e4c72a8d5726",
   "metadata": {},
   "outputs": [
    {
     "name": "stdout",
     "output_type": "stream",
     "text": [
      "Running optimized tests on graph with 10000 nodes, edge probability=0.5\n",
      "Trial 1:\n",
      "BFS  -> Nodes visited: 10000, Time: 8.128119 sec\n",
      "DFS  -> Nodes visited: 10000, Time: 6.540273 sec\n",
      "A-DFS -> Nodes visited: 10000, Time: 26.779866 sec\n",
      "--------------------------------------------------\n",
      "Trial 2:\n",
      "BFS  -> Nodes visited: 10000, Time: 11.674301 sec\n",
      "DFS  -> Nodes visited: 10000, Time: 7.506616 sec\n",
      "A-DFS -> Nodes visited: 10000, Time: 25.675392 sec\n",
      "--------------------------------------------------\n",
      "Trial 3:\n",
      "BFS  -> Nodes visited: 10000, Time: 8.998721 sec\n",
      "DFS  -> Nodes visited: 10000, Time: 6.695485 sec\n",
      "A-DFS -> Nodes visited: 10000, Time: 25.177948 sec\n",
      "--------------------------------------------------\n"
     ]
    }
   ],
   "source": [
    "# Run optimized tests\n",
    "run_tests_optimized(num_nodes=10000, edge_prob=0.5, trials=3)"
   ]
  },
  {
   "cell_type": "code",
   "execution_count": 21,
   "id": "93f4e02f-36ef-4b74-b7f6-8ca02f163a64",
   "metadata": {},
   "outputs": [
    {
     "name": "stdout",
     "output_type": "stream",
     "text": [
      "Running optimized tests on graph with 10000 nodes, edge probability=0.9\n",
      "Trial 1:\n",
      "BFS  -> Nodes visited: 10000, Time: 20.514075 sec\n",
      "DFS  -> Nodes visited: 10000, Time: 13.247676 sec\n",
      "A-DFS -> Nodes visited: 10000, Time: 59.176585 sec\n",
      "--------------------------------------------------\n",
      "Trial 2:\n",
      "BFS  -> Nodes visited: 10000, Time: 20.015868 sec\n",
      "DFS  -> Nodes visited: 10000, Time: 12.088264 sec\n",
      "A-DFS -> Nodes visited: 10000, Time: 63.876678 sec\n",
      "--------------------------------------------------\n",
      "Trial 3:\n",
      "BFS  -> Nodes visited: 10000, Time: 20.955229 sec\n",
      "DFS  -> Nodes visited: 10000, Time: 13.600411 sec\n",
      "A-DFS -> Nodes visited: 10000, Time: 59.299286 sec\n",
      "--------------------------------------------------\n"
     ]
    }
   ],
   "source": [
    "# Run optimized tests\n",
    "run_tests_optimized(num_nodes=10000, edge_prob=0.9, trials=3)"
   ]
  },
  {
   "cell_type": "code",
   "execution_count": 26,
   "id": "1caf492a-fdb5-4742-9f75-6be593717642",
   "metadata": {},
   "outputs": [
    {
     "name": "stdout",
     "output_type": "stream",
     "text": [
      "Running optimized tests on graph with 1000 nodes, edge probability=1\n",
      "Trial 1:\n",
      "BFS  -> Nodes visited: 1000, Time: 0.065908 sec\n",
      "DFS  -> Nodes visited: 1000, Time: 0.062266 sec\n",
      "A-DFS -> Nodes visited: 1000, Time: 0.065080 sec\n",
      "--------------------------------------------------\n",
      "Trial 2:\n",
      "BFS  -> Nodes visited: 1000, Time: 0.071440 sec\n",
      "DFS  -> Nodes visited: 1000, Time: 0.049676 sec\n",
      "A-DFS -> Nodes visited: 1000, Time: 0.078707 sec\n",
      "--------------------------------------------------\n",
      "Trial 3:\n",
      "BFS  -> Nodes visited: 1000, Time: 0.082997 sec\n",
      "DFS  -> Nodes visited: 1000, Time: 0.066074 sec\n",
      "A-DFS -> Nodes visited: 1000, Time: 0.074536 sec\n",
      "--------------------------------------------------\n"
     ]
    }
   ],
   "source": [
    "# Run optimized tests\n",
    "run_tests_optimized(num_nodes=1000, edge_prob=1, trials=3)"
   ]
  },
  {
   "cell_type": "markdown",
   "id": "90732e5f-7e10-4b82-bd01-1e1f58925bb8",
   "metadata": {},
   "source": [
    "### Different threshold values"
   ]
  },
  {
   "cell_type": "code",
   "execution_count": 31,
   "id": "65019039-c84e-45fe-b7ab-0d969dd7b86b",
   "metadata": {},
   "outputs": [],
   "source": [
    "def adaptive_dfs_optimized(graph, start, switch_threshold=9):\n",
    "    stack = [(start, 0)]  # (node, depth)\n",
    "    visited = set([start])\n",
    "    node_count = 0\n",
    "\n",
    "    while stack:\n",
    "        node, depth = stack.pop()\n",
    "        node_count += 1  # Counting visited nodes\n",
    "        \n",
    "        neighbors = graph[node]\n",
    "        \n",
    "        # Sort neighbors only when the threshold is surpassed\n",
    "        if depth < switch_threshold:\n",
    "            # Prioritize high-degree nodes only at certain depth levels\n",
    "            neighbors = sorted(neighbors, key=lambda x: len(graph[x]), reverse=True)\n",
    "        \n",
    "        for neighbor in neighbors:\n",
    "            if neighbor not in visited:\n",
    "                visited.add(neighbor)\n",
    "\n",
    "                if depth < switch_threshold:\n",
    "                    stack.append((neighbor, depth + 1))  # DFS mode\n",
    "                else:\n",
    "                    stack.insert(0, (neighbor, depth))  # BFS-like insertion\n",
    "    \n",
    "    return node_count\n"
   ]
  },
  {
   "cell_type": "code",
   "execution_count": 32,
   "id": "07afb42f-f8cd-4160-b691-faa82b6b53e4",
   "metadata": {},
   "outputs": [],
   "source": [
    "def run_tests_optimized(num_nodes=1000, edge_prob=0.02, trials=3):\n",
    "    \"\"\"Compares BFS, DFS, and Optimized Adaptive-DFS on randomly generated graphs.\"\"\"\n",
    "    print(f\"Running optimized tests on graph with {num_nodes} nodes, edge probability={edge_prob}\")\n",
    "\n",
    "    for t in range(trials):\n",
    "        graph = generate_graph(num_nodes, edge_prob)\n",
    "        start_node = random.choice(list(graph.keys()))\n",
    "\n",
    "        # BFS Test\n",
    "        start_time = time.time()\n",
    "        bfs_nodes = bfs(graph, start_node)\n",
    "        bfs_time = time.time() - start_time\n",
    "\n",
    "        # DFS Test\n",
    "        start_time = time.time()\n",
    "        dfs_nodes = dfs(graph, start_node)\n",
    "        dfs_time = time.time() - start_time\n",
    "\n",
    "        # Optimized A-DFS Test\n",
    "        start_time = time.time()\n",
    "        adfs_nodes = adaptive_dfs_optimized(graph, start_node)\n",
    "        adfs_time = time.time() - start_time\n",
    "\n",
    "        print(f\"Trial {t+1}:\")\n",
    "        print(f\"BFS  -> Nodes visited: {bfs_nodes}, Time: {bfs_time:.6f} sec\")\n",
    "        print(f\"DFS  -> Nodes visited: {dfs_nodes}, Time: {dfs_time:.6f} sec\")\n",
    "        print(f\"A-DFS -> Nodes visited: {adfs_nodes}, Time: {adfs_time:.6f} sec\")\n",
    "        print(\"-\" * 50)\n",
    "\n"
   ]
  },
  {
   "cell_type": "code",
   "execution_count": 34,
   "id": "cd8021f3-e61a-4315-b508-999cb3214c86",
   "metadata": {},
   "outputs": [
    {
     "name": "stdout",
     "output_type": "stream",
     "text": [
      "Running optimized tests on graph with 10000 nodes, edge probability=0.1\n",
      "Trial 1:\n",
      "BFS  -> Nodes visited: 10000, Time: 1.013288 sec\n",
      "DFS  -> Nodes visited: 10000, Time: 0.962223 sec\n",
      "A-DFS -> Nodes visited: 10000, Time: 3.191810 sec\n",
      "--------------------------------------------------\n",
      "Trial 2:\n",
      "BFS  -> Nodes visited: 10000, Time: 1.004678 sec\n",
      "DFS  -> Nodes visited: 10000, Time: 0.946356 sec\n",
      "A-DFS -> Nodes visited: 10000, Time: 3.430042 sec\n",
      "--------------------------------------------------\n",
      "Trial 3:\n",
      "BFS  -> Nodes visited: 10000, Time: 1.188317 sec\n",
      "DFS  -> Nodes visited: 10000, Time: 1.208143 sec\n",
      "A-DFS -> Nodes visited: 10000, Time: 3.749777 sec\n",
      "--------------------------------------------------\n"
     ]
    }
   ],
   "source": [
    "# Run optimized tests\n",
    "run_tests_optimized(num_nodes=10000, edge_prob=0.1, trials=3)"
   ]
  }
 ],
 "metadata": {
  "kernelspec": {
   "display_name": "Python 3 (ipykernel)",
   "language": "python",
   "name": "python3"
  },
  "language_info": {
   "codemirror_mode": {
    "name": "ipython",
    "version": 3
   },
   "file_extension": ".py",
   "mimetype": "text/x-python",
   "name": "python",
   "nbconvert_exporter": "python",
   "pygments_lexer": "ipython3",
   "version": "3.12.2"
  },
  "widgets": {
   "application/vnd.jupyter.widget-state+json": {
    "state": {},
    "version_major": 2,
    "version_minor": 0
   }
  }
 },
 "nbformat": 4,
 "nbformat_minor": 5
}
